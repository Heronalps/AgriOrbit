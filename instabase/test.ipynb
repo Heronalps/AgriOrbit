{
 "cells": [
  {
   "cell_type": "code",
   "execution_count": 10,
   "metadata": {},
   "outputs": [
    {
     "name": "stdout",
     "output_type": "stream",
     "text": [
      "{\"id\": 7717}\n"
     ]
    }
   ],
   "source": [
    "import requests\n",
    "import json\n",
    "\n",
    "url = \"https://aihub.instabase.com/api/v2/batches\"\n",
    "\n",
    "payload = json.dumps({})\n",
    "headers = {\n",
    "  'IB-Context': 'ericssimpson2021_gmail.com',\n",
    "  'Content-Type': 'application/json',\n",
    "  'Authorization': 'Bearer aweg'\n",
    "}\n",
    "\n",
    "response = requests.request(\"POST\", url, headers=headers, data=payload)\n",
    "\n",
    "print(response.text)"
   ]
  },
  {
   "cell_type": "code",
   "execution_count": 11,
   "metadata": {},
   "outputs": [
    {
     "name": "stdout",
     "output_type": "stream",
     "text": [
      "\n"
     ]
    }
   ],
   "source": [
    "import requests\n",
    "\n",
    "url = \"https://aihub.instabase.com/api/v2/batches/7717/files/MY_FILE_NAME.pdf\"\n",
    "\n",
    "payload = \"testing testing brocli is best with 59 waters\"\n",
    "headers = {\n",
    "  'IB-Context': 'ericssimpson2021_gmail.com',\n",
    "  'Content-Type': 'application/octet-stream',\n",
    "  'Authorization': 'Bearer aweg'\n",
    "}\n",
    "\n",
    "response = requests.request(\"PUT\", url, headers=headers, data=payload)\n",
    "\n",
    "print(response.text)"
   ]
  },
  {
   "cell_type": "code",
   "execution_count": 12,
   "metadata": {},
   "outputs": [
    {
     "name": "stdout",
     "output_type": "stream",
     "text": [
      "{\"message\": \"An unexpected error has occured: Unknown exception\"}\n"
     ]
    }
   ],
   "source": [
    "import requests\n",
    "import json\n",
    "\n",
    "url = \"https://aihub.instabase.com/api/v2/apps/runs\"\n",
    "\n",
    "payload = json.dumps({\n",
    "  \"app_name\": \"Resume Parser\",\n",
    "  \"owner\": \"Instabase\",\n",
    "  \"batch_id\": \"7717\"\n",
    "})\n",
    "headers = {\n",
    "  'IB-Context': 'ericssimpson2021_gmail.com',\n",
    "  'Content-Type': 'application/json',\n",
    "  'Authorization': 'Bearer teta'\n",
    "}\n",
    "\n",
    "response = requests.request(\"POST\", url, headers=headers, data=payload)\n",
    "\n",
    "print(response.text)\n"
   ]
  },
  {
   "cell_type": "code",
   "execution_count": 1,
   "metadata": {},
   "outputs": [],
   "source": [
    "import time, json\n",
    "from typing import Dict, Text, Tuple, Any\n",
    "import requests\n",
    "from requests import Response\n",
    "\n",
    "API_TOKEN = 'waoief' # Define your API token\n",
    "IB_CONTEXT = 'awef' # Define organization ID to use organization account, define user ID to use community account\n",
    "\n",
    "API_BASE_URL = 'https://aihub.instabase.com/api' # Edit root API URL if your organization has a custom domain\n",
    "url = API_BASE_URL + 'v2/queries'\n",
    "API_HEADERS = {\n",
    "    'Authorization': f'Bearer {API_TOKEN}',\n",
    "    'IB-Context': f'{IB_CONTEXT}'\n",
    "}\n",
    "\n",
    "def query_chatbot(data: Dict[Text, Any]) -> Response:\n",
    "  print('Querying chatbot')\n",
    "  response = requests.post(url=url, headers=API_HEADERS, data=json.dumps(data))\n",
    "  return response\n",
    "\n",
    "def get_query_status(query_id: Text) -> Tuple[Dict, Text]:\n",
    "  print(f'Getting query request status for {query_id}')\n",
    "  while True:\n",
    "    response = requests.get(f'{url}/{query_id}', headers=API_HEADERS)\n",
    "    if not response.ok:\n",
    "        return None, f'Error while getting the status for query request :  {response.status_code} - {response.text}'\n",
    "\n",
    "    response_json = response.json()\n",
    "    status = response_json.get('status')\n",
    "    if not status:\n",
    "        return None, f'Getting the status for query request : {response_json}'\n",
    "\n",
    "    # If status of query request is COMPLETE stop polling and return\n",
    "    if status in ['COMPLETE']:\n",
    "      return response_json, None\n",
    "\n",
    "    print('Query still processing, please wait!')\n",
    "\n",
    "    # If it is RUNNING, the script waits for 5 seconds before the next poll\n",
    "    time.sleep(5)\n"
   ]
  },
  {
   "cell_type": "code",
   "execution_count": 2,
   "metadata": {},
   "outputs": [],
   "source": [
    "data: Dict[Text, Any] = {}\n",
    "data['query'] = 'What is the best way to prepare my broccoli farm for a drought?' # Define your chatbot query\n",
    "data['model_name'] = 'multistep' # Define model to use, 'multistep-lite' (multistep model) or 'multistep' (research mode)\n",
    "data['include_source_info'] = True # Set to 'true' to get information about source documents referenced when generating response\n",
    "data['source_app'] = {'type':'CHATBOT', 'id':'awef'} # Define chatbot ID"
   ]
  },
  {
   "cell_type": "code",
   "execution_count": 4,
   "metadata": {},
   "outputs": [
    {
     "name": "stdout",
     "output_type": "stream",
     "text": [
      "Querying chatbot\n",
      "Unable to connect to the chatbot query API - <Response [405]>.\n",
      "Response status code: 405\n",
      "Response content: <!doctype html>\n",
      "<html lang=en>\n",
      "<title>405 Method Not Allowed</title>\n",
      "<h1>Method Not Allowed</h1>\n",
      "<p>The method is not allowed for the requested URL.</p>\n",
      "\n"
     ]
    }
   ],
   "source": [
    "# Query the chatbot\n",
    "response = query_chatbot(data)\n",
    "query_id = None\n",
    "if response.ok:\n",
    "  resp_data = response.json()\n",
    "  query_id = resp_data.get('query_id')\n",
    "  if not query_id:\n",
    "    print('Unable to query the chatbot.')\n",
    "\n",
    "  print(f'Response from query chatbot : {resp_data}')\n",
    "else:\n",
    "  print(f'Unable to connect to the chatbot query API - {response}.')\n",
    "  print(f'Response status code: {response.status_code}')\n",
    "  print(f'Response content: {response.text}')"
   ]
  },
  {
   "cell_type": "code",
   "execution_count": 3,
   "metadata": {},
   "outputs": [
    {
     "name": "stdout",
     "output_type": "stream",
     "text": [
      "Querying chatbot\n",
      "Unable to connect to the chatbot query API - <Response [405]>.\n",
      "Response status code: 405\n",
      "Response content: <!doctype html>\n",
      "<html lang=en>\n",
      "<title>405 Method Not Allowed</title>\n",
      "<h1>Method Not Allowed</h1>\n",
      "<p>The method is not allowed for the requested URL.</p>\n",
      "\n"
     ]
    }
   ],
   "source": [
    "# Get the status of query request\n",
    "if query_id:\n",
    "  response_json, err = get_query_status(query_id=query_id)\n",
    "  if err:\n",
    "    print(f'Error occurred: {err}')\n",
    "  else:\n",
    "    print(f'Query request status : {response_json}')"
   ]
  }
 ],
 "metadata": {
  "kernelspec": {
   "display_name": "Python 3",
   "language": "python",
   "name": "python3"
  },
  "language_info": {
   "codemirror_mode": {
    "name": "ipython",
    "version": 3
   },
   "file_extension": ".py",
   "mimetype": "text/x-python",
   "name": "python",
   "nbconvert_exporter": "python",
   "pygments_lexer": "ipython3",
   "version": "3.12.7"
  }
 },
 "nbformat": 4,
 "nbformat_minor": 2
}
