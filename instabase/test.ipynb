{
 "cells": [
  {
   "cell_type": "code",
   "execution_count": 2,
   "metadata": {},
   "outputs": [],
   "source": [
    "API_TOKEN = '' # Define your API token\n",
    "IB_CONTEXT = '' # Define organization ID to use organization account, define user ID to use community account\n",
    "CHATBOT_ID = \"\""
   ]
  },
  {
   "cell_type": "code",
   "execution_count": 3,
   "metadata": {},
   "outputs": [],
   "source": [
    "user_q = \"What is the best way to prepare my broccoli farm for a drought?\"  ## User input goes here\n",
    "\n",
    "api_response = \"\"\n",
    "\n",
    "prompt_eng = f\"Weather data: {api_response}\\nFarmer's question: {user_q}\"  ##TODO: engineer this better\n",
    "\n",
    "payload = {\n",
    "  \"query\": prompt_eng,\n",
    "  \"source_app\": {\n",
    "    \"type\": \"CHATBOT\",\n",
    "    \"id\": CHATBOT_ID\n",
    "  },\n",
    "  \"model\": \"multistep\",\n",
    "  \"include_source_info\": True\n",
    "}"
   ]
  },
  {
   "cell_type": "code",
   "execution_count": 17,
   "metadata": {},
   "outputs": [],
   "source": [
    "import time, json\n",
    "from typing import Dict, Text, Tuple, Any\n",
    "import requests\n",
    "from requests import Response\n",
    "\n",
    "API_BASE_URL = 'https://aihub.instabase.com/api' # Edit root API URL if your organization has a custom domain\n",
    "url = API_BASE_URL + '/v2/queries'\n",
    "\n",
    "API_HEADERS = {\n",
    "    'Authorization': f'Bearer {API_TOKEN}',\n",
    "    'IB-Context': f'{IB_CONTEXT}'\n",
    "}\n",
    "\n",
    "def query_chatbot(data: Dict[Text, Any]) -> Response:\n",
    "  print('Querying chatbot')\n",
    "  response = requests.post(url=url, headers=API_HEADERS, data=json.dumps(payload))\n",
    "  return response\n",
    "\n",
    "def get_query_status(query_id: Text) -> Tuple[Dict, Text]:\n",
    "  print(f'Getting query request status for {query_id}')\n",
    "  while True:\n",
    "    response = requests.get(f'{url}/{query_id}', headers=API_HEADERS)\n",
    "    if not response.ok:\n",
    "        return None, f'Error while getting the status for query request :  {response.status_code} - {response.text}'\n",
    "\n",
    "    response_json = response.json()\n",
    "    status = response_json.get('status')\n",
    "    if not status:\n",
    "        return None, f'Getting the status for query request : {response_json}'\n",
    "\n",
    "    # If status of query request is COMPLETE stop polling and return\n",
    "    if status in ['COMPLETE']:\n",
    "      return response_json, None\n",
    "\n",
    "    print('Query still processing, please wait!')\n",
    "\n",
    "    # If it is RUNNING, the script waits for 5 seconds before the next poll\n",
    "    time.sleep(5)\n"
   ]
  },
  {
   "cell_type": "markdown",
   "metadata": {},
   "source": [
    "## Handled with the `payload` var\n",
    "\n",
    "data: Dict[Text, Any] = {}\n",
    "data['query'] = 'What is the best way to prepare my broccoli farm for a drought?' # Define your chatbot query\n",
    "data['model_name'] = 'multistep' # Define model to use, 'multistep-lite' (multistep model) or 'multistep' (research mode)\n",
    "data['include_source_info'] = True # Set to 'true' to get information about source documents referenced when generating response\n",
    "data['source_app'] = {'type':'CHATBOT', 'id':'awef'} # Define chatbot ID"
   ]
  },
  {
   "cell_type": "code",
   "execution_count": 18,
   "metadata": {},
   "outputs": [
    {
     "name": "stdout",
     "output_type": "stream",
     "text": [
      "Querying chatbot\n",
      "Response from query chatbot : {'query_id': '01925efc-de86-7a2b-b8ad-c7fb68365b9c'}\n"
     ]
    }
   ],
   "source": [
    "# Query the chatbot\n",
    "response = query_chatbot(data=payload)\n",
    "query_id = None\n",
    "if response.ok:\n",
    "  resp_data = response.json()\n",
    "  query_id = resp_data.get('query_id')\n",
    "  if not query_id:\n",
    "    print('Unable to query the chatbot.')\n",
    "\n",
    "  print(f'Response from query chatbot : {resp_data}')\n",
    "else:\n",
    "  print(f'Unable to connect to the chatbot query API - {response}.')\n",
    "  print(f'Response status code: {response.status_code}')\n",
    "  print(f'Response content: {response.text}')"
   ]
  },
  {
   "cell_type": "code",
   "execution_count": 19,
   "metadata": {},
   "outputs": [
    {
     "name": "stdout",
     "output_type": "stream",
     "text": [
      "Getting query request status for 01925efc-de86-7a2b-b8ad-c7fb68365b9c\n",
      "Query still processing, please wait!\n",
      "Query still processing, please wait!\n",
      "Query still processing, please wait!\n",
      "Query request status : {'query_id': '01925efc-de86-7a2b-b8ad-c7fb68365b9c', 'status': 'COMPLETE', 'results': [{'response': 'To prepare your broccoli farm for a drought, consider the following strategies based on the provided documents:\\n\\n1. **Soil Improvement**:\\n   - **Healthy Soils**: Focus on building healthy soils with good and stable aggregation, enhanced organic matter levels, and limited or no compaction. This can help in \"drought-proofing\" your farm by improving water infiltration and reducing evaporation losses from the soil.\\n   - **Reduced Tillage**: Implement reduced tillage practices with residues on the surface to enhance water infiltration and reduce evaporation.\\n   - **Cover Crops**: Use cover crops to act as a water-conserving surface mulch once they are suppressed. Although cover crops use water for their growth, they can help conserve water in the long run.\\n\\n2. **Irrigation Management**:\\n   - **Efficient Irrigation Systems**: Consider using efficient irrigation systems such as drip irrigation, which can provide water directly to the plant roots and reduce water wastage.\\n   - **Water Sources**: Ensure you have reliable water sources, such as farm ponds or wells, to support your irrigation needs during drought periods.\\n\\n3. **Crop Management**:\\n   - **Transplanting Practices**: Harden off transplants by exposing them to outside elements for a week before transplanting to reduce transplant shock. Water all flats thoroughly immediately before transplanting to the field.\\n   - **Spacing and Watering**: Space plants adequately (e.g., 15 inches between plants and 36 inches between rows) and water them thoroughly during or soon after transplanting. Avoid using heavy overhead irrigation for a week after planting to prevent matting down during the shock period.\\n\\n4. **Forecasting and Harvesting**:\\n   - **Regular Monitoring**: Regularly monitor the weather forecast to understand how fast broccoli heads become mature and adjust your irrigation and harvesting schedules accordingly.\\n   - **Harvesting Practices**: Harvest broccoli in the morning before the heat of the day to reduce field heat accumulation and ensure the quality of the produce.\\n\\nBy implementing these strategies, you can better prepare your broccoli farm to withstand drought conditions and maintain crop health and productivity.', 'source_documents': [{'name': 'Broccoli-Production-Manual-Satellite-Farms.pdf', 'pages': []}, {'name': 'Building-Soils-for-Better-Crops.pdf', 'pages': []}, {'name': 'Crop-Rotation-on-Organic-Farms.pdf', 'pages': []}, {'name': 'Harvesting_Crops_for_Market.pdf', 'pages': []}]}]}\n"
     ]
    }
   ],
   "source": [
    "# Get the status of query request\n",
    "if query_id:\n",
    "  response_json, err = get_query_status(query_id=query_id)\n",
    "  if err:\n",
    "    print(f'Error occurred: {err}')\n",
    "  else:\n",
    "    print(f'Query request status : {response_json}')"
   ]
  }
 ],
 "metadata": {
  "kernelspec": {
   "display_name": ".venv",
   "language": "python",
   "name": "python3"
  },
  "language_info": {
   "codemirror_mode": {
    "name": "ipython",
    "version": 3
   },
   "file_extension": ".py",
   "mimetype": "text/x-python",
   "name": "python",
   "nbconvert_exporter": "python",
   "pygments_lexer": "ipython3",
   "version": "3.12.7"
  }
 },
 "nbformat": 4,
 "nbformat_minor": 2
}
