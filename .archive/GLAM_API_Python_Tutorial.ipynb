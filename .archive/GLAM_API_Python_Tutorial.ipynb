{
  "cells": [
    {
      "cell_type": "markdown",
      "metadata": {
        "id": "zDBjR7TdLjkA"
      },
      "source": [
        "# GLAM API Python Tutorial"
      ]
    },
    {
      "cell_type": "markdown",
      "metadata": {
        "id": "fLF1l91OLsxU"
      },
      "source": [
        "## About\n",
        "Welcome to the GLAM API Python Tutorial. This document was originally created in Google Colab. For more information on how to use the Colab, please see [here](https://research.google.com/colaboratory/faq.html). Alternatively, this documentation is available as a Python [notebook](https://jupyter.org/).\n",
        "\n",
        "The purpose of this document is to provide sample python code and uses cases to enable better understanding of the GLAM API and builds on the [GLAM API documentation](https://s9h5qqvw16.execute-api.us-east-1.amazonaws.com/dev/docs/)."
      ]
    },
    {
      "cell_type": "markdown",
      "metadata": {
        "id": "LfOLk0Qll4Nj"
      },
      "source": [
        "Update - 4/1/2025\n",
        "\n",
        "API ROOT URL: https://98e2zjiicz.us-west-2.awsapprunner.com"
      ]
    },
    {
      "cell_type": "markdown",
      "metadata": {
        "id": "O7nFuDUmUUNs"
      },
      "source": [
        "## API Examples"
      ]
    },
    {
      "cell_type": "markdown",
      "metadata": {
        "id": "0m2MCkD6O2uY"
      },
      "source": [
        "## tags\n",
        "Return list of available Tags for searching and filtering."
      ]
    },
    {
      "cell_type": "code",
      "execution_count": null,
      "metadata": {
        "collapsed": true,
        "id": "4y5I1yPrO346"
      },
      "outputs": [],
      "source": [
        "# Import the required python module(s):\n",
        "import json # https://docs.python.org/3/library/json.html\n",
        "import requests # https://docs.python-requests.org/en/latest/\n",
        "\n",
        "# The URL format is:\n",
        "## Base URL: https://98e2zjiicz.us-west-2.awsapprunner.com\n",
        "## Followed by: /tags/\n",
        "\n",
        "# Obtain a list of available tags:\n",
        "tags_response = requests.get(\"https://98e2zjiicz.us-west-2.awsapprunner.com/tags/\")\n",
        "\n",
        "# Load the list of available tags:\n",
        "tags_response.json()"
      ]
    },
    {
      "cell_type": "markdown",
      "metadata": {
        "id": "KiLR9IcyOzen"
      },
      "source": [
        "## sources\n",
        "Return list of available Sources."
      ]
    },
    {
      "cell_type": "code",
      "execution_count": null,
      "metadata": {
        "id": "Q7ccnH8-47HN"
      },
      "outputs": [],
      "source": [
        "# Import the required python module(s):\n",
        "import json # https://docs.python.org/3/library/json.html\n",
        "import requests # https://docs.python-requests.org/en/latest/\n",
        "\n",
        "# The URL format is:\n",
        "## Base URL: https://98e2zjiicz.us-west-2.awsapprunner.com\n",
        "## Followed by: /sources/\n",
        "\n",
        "# Obtain the list of available GLAM sources:\n",
        "sources_response = requests.get(\"https://98e2zjiicz.us-west-2.awsapprunner.com/sources/\")\n",
        "\n",
        "# Load the list of available GLAM sources as text:\n",
        "sources_response.json()"
      ]
    },
    {
      "cell_type": "markdown",
      "metadata": {
        "id": "HPL7BVzd4akD"
      },
      "source": [
        "### Return details for specified Source."
      ]
    },
    {
      "cell_type": "code",
      "execution_count": null,
      "metadata": {
        "id": "Su10sZ5T4bJy"
      },
      "outputs": [],
      "source": [
        "# Import the required python module(s):\n",
        "import json # https://docs.python.org/3/library/json.html\n",
        "import requests # https://docs.python-requests.org/en/latest/\n",
        "\n",
        "# Source details requires the following inputs:\n",
        "## Source id (in this example, \"ucsb-climate-hazards-center\")\n",
        "\n",
        "# The URL format is:\n",
        "## Base URL: https://98e2zjiicz.us-west-2.awsapprunner.com\n",
        "## Followed by: /sources/source_id/\n",
        "\n",
        "# Obtain the details for a specified GLAM product:\n",
        "source_details_response = requests.get(\"https://98e2zjiicz.us-west-2.awsapprunner.com/sources/ucsb-climate-hazards-center/\")\n",
        "\n",
        "# Load the details for a specified GLAM product:\n",
        "source_details_response.json()"
      ]
    },
    {
      "cell_type": "markdown",
      "metadata": {
        "id": "LaVl4fYfOxcr"
      },
      "source": [
        "## products\n",
        "Return list of available Products."
      ]
    },
    {
      "cell_type": "code",
      "execution_count": null,
      "metadata": {
        "id": "SiQYrQ8VOzMg"
      },
      "outputs": [],
      "source": [
        "# Import the required python module(s):\n",
        "import json # https://docs.python.org/3/library/json.html\n",
        "import requests # https://docs.python-requests.org/en/latest/\n",
        "\n",
        "# The URL format is:\n",
        "## Base URL: https://98e2zjiicz.us-west-2.awsapprunner.com\n",
        "## Followed by: /products/\n",
        "\n",
        "# Obtain the list of available GLAM products:\n",
        "products_response = requests.get(\"https://98e2zjiicz.us-west-2.awsapprunner.com/products/\")\n",
        "\n",
        "# Load the list of available GLAM products as text:\n",
        "products_response.json()"
      ]
    },
    {
      "cell_type": "markdown",
      "metadata": {
        "id": "S3Q0PaeY3op5"
      },
      "source": [
        "### Return details for specified Product."
      ]
    },
    {
      "cell_type": "code",
      "execution_count": null,
      "metadata": {
        "id": "BZfv1H7c3qel"
      },
      "outputs": [],
      "source": [
        "# Import the required python module(s):\n",
        "import json # https://docs.python.org/3/library/json.html\n",
        "import requests # https://docs.python-requests.org/en/latest/\n",
        "\n",
        "# Product details requires the following inputs:\n",
        "## product id (in this example, \"chirps\")\n",
        "\n",
        "# The URL format is:\n",
        "## Base URL: https://98e2zjiicz.us-west-2.awsapprunner.com\n",
        "## Followed by: /products/product_id/\n",
        "\n",
        "# Obtain the details for a specified GLAM product:\n",
        "product_details_response = requests.get(\"https://98e2zjiicz.us-west-2.awsapprunner.com/products/chirps-precip/\")\n",
        "\n",
        "# Load the details for a specified GLAM product:\n",
        "product_details_response.json()"
      ]
    },
    {
      "cell_type": "markdown",
      "metadata": {
        "id": "Ea-1z8gIO55f"
      },
      "source": [
        "## variables\n",
        "Return list of available Variables."
      ]
    },
    {
      "cell_type": "code",
      "execution_count": null,
      "metadata": {
        "id": "g54aAgEIO7H1"
      },
      "outputs": [],
      "source": [
        "# Import the required python module(s):\n",
        "import json # https://docs.python.org/3/library/json.html\n",
        "import requests # https://docs.python-requests.org/en/latest/\n",
        "\n",
        "# The URL format is:\n",
        "## Base URL: https://98e2zjiicz.us-west-2.awsapprunner.com\n",
        "## Followed by: /variables/\n",
        "\n",
        "# Obtain the list of available variables:\n",
        "variables_response = requests.get(\"https://98e2zjiicz.us-west-2.awsapprunner.com/variables/\")\n",
        "\n",
        "# Load the list of available variables:\n",
        "variables_response.json()"
      ]
    },
    {
      "cell_type": "markdown",
      "metadata": {
        "id": "-J1tl77c8r2o"
      },
      "source": [
        "### Return details for specified Variable."
      ]
    },
    {
      "cell_type": "code",
      "execution_count": null,
      "metadata": {
        "id": "8FD-808d87nx"
      },
      "outputs": [],
      "source": [
        "# Import the required python module(s):\n",
        "import json # https://docs.python.org/3/library/json.html\n",
        "import requests # https://docs.python-requests.org/en/latest/\n",
        "\n",
        "# Variable details requires the following input:\n",
        "## variable id (in this example, \"chirps-precipitation\")\n",
        "\n",
        "# The URL format is:\n",
        "## Base URL: https://98e2zjiicz.us-west-2.awsapprunner.com\n",
        "## Followed by: /variables/variable-id/\n",
        "\n",
        "# Obtain the variable details:\n",
        "variable_details_response = requests.get(\"https://98e2zjiicz.us-west-2.awsapprunner.com/variables/chirps-precipitation\")\n",
        "\n",
        "# Load the variable details:\n",
        "variable_details_response.json()"
      ]
    },
    {
      "cell_type": "markdown",
      "metadata": {
        "id": "WT4xJNrJOJ3q"
      },
      "source": [
        "## boundary-layers\n",
        "\n",
        "Return list of available Boundary Layers."
      ]
    },
    {
      "cell_type": "code",
      "execution_count": null,
      "metadata": {
        "id": "0x9KHBMdOZch"
      },
      "outputs": [],
      "source": [
        "# Import the required python module(s):\n",
        "import json # https://docs.python.org/3/library/json.html\n",
        "import requests # https://docs.python-requests.org/en/latest/\n",
        "\n",
        "# The URL format is:\n",
        "## Base URL: https://api.glam2.app\n",
        "## Followed by: /boundary-layers/\n",
        "\n",
        "api_url = 'https://98e2zjiicz.us-west-2.awsapprunner.com/'\n",
        "\n",
        "# Obtain the boundary layer records values:\n",
        "adminlayer_id_response = requests.get(api_url+\"boundary-layers/\")\n",
        "\n",
        "# Load the boundary layer records:\n",
        "adminlayer_id_response.json()"
      ]
    },
    {
      "cell_type": "markdown",
      "metadata": {
        "id": "BKYYQnxdm3YV"
      },
      "source": [
        "### Return details for specified Boundary Layer."
      ]
    },
    {
      "cell_type": "code",
      "execution_count": null,
      "metadata": {
        "id": "HkwFSQB_m5AB"
      },
      "outputs": [],
      "source": [
        "# Import the required python module(s):\n",
        "import json # https://docs.python.org/3/library/json.html\n",
        "import requests # https://docs.python-requests.org/en/latest/\n",
        "\n",
        "# Boundary Layer Details requires the following inputs:\n",
        "## boundary layer id\n",
        "\n",
        "# The URL format is:\n",
        "## Base URL: https://98e2zjiicz.us-west-2.awsapprunner.com\n",
        "## Followed by: /boundary-layers/layer_id/\n",
        "\n",
        "# Obtain the boundary layer details:\n",
        "# layer_id in this example is for sub-national (adm1) boundaryes for the United States of America (usa)\n",
        "\n",
        "adminlayer_details_response = requests.get(\"https://98e2zjiicz.us-west-2.awsapprunner.com/boundary-layers/geoboundaries-usa-adm1\")\n",
        "\n",
        "# Load the boundary layer details:\n",
        "adminlayer_details_response.json()"
      ]
    },
    {
      "cell_type": "markdown",
      "metadata": {
        "id": "ODGzbbEDOU50"
      },
      "source": [
        "## boundary-features\n",
        "Retrieve admin units belonging to a specified boundary layer."
      ]
    },
    {
      "cell_type": "code",
      "execution_count": null,
      "metadata": {
        "id": "Uf53X1h6Lbh_"
      },
      "outputs": [],
      "source": [
        "# Import the required python module(s):\n",
        "import json # https://docs.python.org/3/library/json.html\n",
        "import requests # https://docs.python-requests.org/en/latest/\n",
        "\n",
        "# Boundary Units requires the following inputs:\n",
        "## boundary layer id\n",
        "\n",
        "# The URL format is:\n",
        "## Base URL: https://98e2zjiicz.us-west-2.awsapprunner.com\n",
        "## Followed by: /admin-units/layer_id/\n",
        "\n",
        "# Obtain the boundary units belonging to the boundary layer:\n",
        "admin_unit_response = requests.get(\"https://98e2zjiicz.us-west-2.awsapprunner.com/boundary-features/geoboundaries-usa-adm1/\")\n",
        "\n",
        "# Load the boundary units belonging to geoboundaries-usa-adm1:\n",
        "admin_unit_response.json()"
      ]
    },
    {
      "cell_type": "markdown",
      "metadata": {
        "id": "bsTl2XVCOg8k"
      },
      "source": [
        "## crop-masks\n",
        "Return list of available Cropmasks."
      ]
    },
    {
      "cell_type": "code",
      "execution_count": null,
      "metadata": {
        "id": "wb89aVrOOh2Q"
      },
      "outputs": [],
      "source": [
        "# Import the required python module(s):\n",
        "import json # https://docs.python.org/3/library/json.html\n",
        "import requests # https://docs.python-requests.org/en/latest/\n",
        "\n",
        "# crop-masks also accepts the following optional input:\n",
        "## a tag to filter available products\n",
        "## a search term\n",
        "## page to access a page # within the paginated results\n",
        "## limit to limit the # of results\n",
        "\n",
        "# The URL format is:\n",
        "## Base URL: https://98e2zjiicz.us-west-2.awsapprunner.com\n",
        "## Followed by: /cropmasks/\n",
        "\n",
        "# Obtain the list of available crop masks:\n",
        "cropmasks_response = requests.get(\"https://98e2zjiicz.us-west-2.awsapprunner.com/cropmasks\")\n",
        "\n",
        "# Load the list of available crop masks:\n",
        "cropmasks_response.json()"
      ]
    },
    {
      "cell_type": "markdown",
      "metadata": {
        "id": "aamQ7oi4y5_f"
      },
      "source": [
        "### Return the details of a specified crop mask."
      ]
    },
    {
      "cell_type": "code",
      "execution_count": null,
      "metadata": {
        "id": "_X9u5LuXy8a5"
      },
      "outputs": [],
      "source": [
        "# Import the required python module(s):\n",
        "import json # https://docs.python.org/3/library/json.html\n",
        "import requests # https://docs.python-requests.org/en/latest/\n",
        "\n",
        "# Cropmask details requires the following input:\n",
        "## cropmask id (in this example, a maize mask from geoglam - \"geoglam-bacs-maize\")\n",
        "\n",
        "# The URL format is:\n",
        "## Base URL: https://98e2zjiicz.us-west-2.awsapprunner.com\n",
        "## Followed by: /cropmasks/cropmask-id\n",
        "\n",
        "# Obtain the list of available crop masks:\n",
        "cropmask_details_response = requests.get(\"https://98e2zjiicz.us-west-2.awsapprunner.com/cropmasks/geoglam-bacs-maize\")\n",
        "\n",
        "# Load the list of available crop masks as text:\n",
        "json.loads(cropmask_details_response.text)"
      ]
    },
    {
      "cell_type": "markdown",
      "metadata": {
        "id": "DX1WnKB4Om07"
      },
      "source": [
        "## datasets\n",
        "Returns a list of available GLAM datasets."
      ]
    },
    {
      "cell_type": "markdown",
      "metadata": {
        "id": "0sIz-qVgzwSI"
      },
      "source": [
        "### Example 1: Return all available GLAM datasets:"
      ]
    },
    {
      "cell_type": "code",
      "execution_count": 3,
      "metadata": {
        "id": "gTDSPResOpVa",
        "outputId": "d1189698-e2cd-4927-d173-30dac7a5b22b",
        "colab": {
          "base_uri": "https://localhost:8080/"
        }
      },
      "outputs": [
        {
          "output_type": "execute_result",
          "data": {
            "text/plain": [
              "{'count': 8748,\n",
              " 'next': 'https://98e2zjiicz.us-west-2.awsapprunner.com/datasets/?page=2',\n",
              " 'previous': None,\n",
              " 'results': [{'id': 4278,\n",
              "   'product_id': 'mod09a1-ndwi',\n",
              "   'date': '2000-02-18',\n",
              "   'prelim': False,\n",
              "   'meta': None},\n",
              "  {'id': 5420,\n",
              "   'product_id': 'mod09q1-ndvi',\n",
              "   'date': '2000-02-18',\n",
              "   'prelim': False,\n",
              "   'meta': None},\n",
              "  {'id': 6518,\n",
              "   'product_id': 'mod13q1-ndvi',\n",
              "   'date': '2000-02-18',\n",
              "   'prelim': False,\n",
              "   'meta': None},\n",
              "  {'id': 4279,\n",
              "   'product_id': 'mod09a1-ndwi',\n",
              "   'date': '2000-02-26',\n",
              "   'prelim': False,\n",
              "   'meta': None},\n",
              "  {'id': 5421,\n",
              "   'product_id': 'mod09q1-ndvi',\n",
              "   'date': '2000-02-26',\n",
              "   'prelim': False,\n",
              "   'meta': None},\n",
              "  {'id': 4280,\n",
              "   'product_id': 'mod09a1-ndwi',\n",
              "   'date': '2000-03-05',\n",
              "   'prelim': False,\n",
              "   'meta': None},\n",
              "  {'id': 5422,\n",
              "   'product_id': 'mod09q1-ndvi',\n",
              "   'date': '2000-03-05',\n",
              "   'prelim': False,\n",
              "   'meta': None},\n",
              "  {'id': 6519,\n",
              "   'product_id': 'mod13q1-ndvi',\n",
              "   'date': '2000-03-05',\n",
              "   'prelim': False,\n",
              "   'meta': None},\n",
              "  {'id': 4281,\n",
              "   'product_id': 'mod09a1-ndwi',\n",
              "   'date': '2000-03-13',\n",
              "   'prelim': False,\n",
              "   'meta': None},\n",
              "  {'id': 5423,\n",
              "   'product_id': 'mod09q1-ndvi',\n",
              "   'date': '2000-03-13',\n",
              "   'prelim': False,\n",
              "   'meta': None},\n",
              "  {'id': 4282,\n",
              "   'product_id': 'mod09a1-ndwi',\n",
              "   'date': '2000-03-21',\n",
              "   'prelim': False,\n",
              "   'meta': None},\n",
              "  {'id': 5424,\n",
              "   'product_id': 'mod09q1-ndvi',\n",
              "   'date': '2000-03-21',\n",
              "   'prelim': False,\n",
              "   'meta': None},\n",
              "  {'id': 6520,\n",
              "   'product_id': 'mod13q1-ndvi',\n",
              "   'date': '2000-03-21',\n",
              "   'prelim': False,\n",
              "   'meta': None},\n",
              "  {'id': 4283,\n",
              "   'product_id': 'mod09a1-ndwi',\n",
              "   'date': '2000-03-29',\n",
              "   'prelim': False,\n",
              "   'meta': None},\n",
              "  {'id': 5425,\n",
              "   'product_id': 'mod09q1-ndvi',\n",
              "   'date': '2000-03-29',\n",
              "   'prelim': False,\n",
              "   'meta': None},\n",
              "  {'id': 4284,\n",
              "   'product_id': 'mod09a1-ndwi',\n",
              "   'date': '2000-04-06',\n",
              "   'prelim': False,\n",
              "   'meta': None},\n",
              "  {'id': 5426,\n",
              "   'product_id': 'mod09q1-ndvi',\n",
              "   'date': '2000-04-06',\n",
              "   'prelim': False,\n",
              "   'meta': None},\n",
              "  {'id': 6521,\n",
              "   'product_id': 'mod13q1-ndvi',\n",
              "   'date': '2000-04-06',\n",
              "   'prelim': False,\n",
              "   'meta': None},\n",
              "  {'id': 4285,\n",
              "   'product_id': 'mod09a1-ndwi',\n",
              "   'date': '2000-04-14',\n",
              "   'prelim': False,\n",
              "   'meta': None},\n",
              "  {'id': 5427,\n",
              "   'product_id': 'mod09q1-ndvi',\n",
              "   'date': '2000-04-14',\n",
              "   'prelim': False,\n",
              "   'meta': None},\n",
              "  {'id': 4286,\n",
              "   'product_id': 'mod09a1-ndwi',\n",
              "   'date': '2000-04-22',\n",
              "   'prelim': False,\n",
              "   'meta': None},\n",
              "  {'id': 5428,\n",
              "   'product_id': 'mod09q1-ndvi',\n",
              "   'date': '2000-04-22',\n",
              "   'prelim': False,\n",
              "   'meta': None},\n",
              "  {'id': 6522,\n",
              "   'product_id': 'mod13q1-ndvi',\n",
              "   'date': '2000-04-22',\n",
              "   'prelim': False,\n",
              "   'meta': None},\n",
              "  {'id': 4287,\n",
              "   'product_id': 'mod09a1-ndwi',\n",
              "   'date': '2000-04-30',\n",
              "   'prelim': False,\n",
              "   'meta': None},\n",
              "  {'id': 5429,\n",
              "   'product_id': 'mod09q1-ndvi',\n",
              "   'date': '2000-04-30',\n",
              "   'prelim': False,\n",
              "   'meta': None},\n",
              "  {'id': 4288,\n",
              "   'product_id': 'mod09a1-ndwi',\n",
              "   'date': '2000-05-08',\n",
              "   'prelim': False,\n",
              "   'meta': None},\n",
              "  {'id': 5430,\n",
              "   'product_id': 'mod09q1-ndvi',\n",
              "   'date': '2000-05-08',\n",
              "   'prelim': False,\n",
              "   'meta': None},\n",
              "  {'id': 6523,\n",
              "   'product_id': 'mod13q1-ndvi',\n",
              "   'date': '2000-05-08',\n",
              "   'prelim': False,\n",
              "   'meta': None},\n",
              "  {'id': 4289,\n",
              "   'product_id': 'mod09a1-ndwi',\n",
              "   'date': '2000-05-16',\n",
              "   'prelim': False,\n",
              "   'meta': None},\n",
              "  {'id': 5431,\n",
              "   'product_id': 'mod09q1-ndvi',\n",
              "   'date': '2000-05-16',\n",
              "   'prelim': False,\n",
              "   'meta': None},\n",
              "  {'id': 4290,\n",
              "   'product_id': 'mod09a1-ndwi',\n",
              "   'date': '2000-05-24',\n",
              "   'prelim': False,\n",
              "   'meta': None},\n",
              "  {'id': 5432,\n",
              "   'product_id': 'mod09q1-ndvi',\n",
              "   'date': '2000-05-24',\n",
              "   'prelim': False,\n",
              "   'meta': None},\n",
              "  {'id': 6524,\n",
              "   'product_id': 'mod13q1-ndvi',\n",
              "   'date': '2000-05-24',\n",
              "   'prelim': False,\n",
              "   'meta': None},\n",
              "  {'id': 4291,\n",
              "   'product_id': 'mod09a1-ndwi',\n",
              "   'date': '2000-06-01',\n",
              "   'prelim': False,\n",
              "   'meta': None},\n",
              "  {'id': 5433,\n",
              "   'product_id': 'mod09q1-ndvi',\n",
              "   'date': '2000-06-01',\n",
              "   'prelim': False,\n",
              "   'meta': None},\n",
              "  {'id': 4292,\n",
              "   'product_id': 'mod09a1-ndwi',\n",
              "   'date': '2000-06-09',\n",
              "   'prelim': False,\n",
              "   'meta': None},\n",
              "  {'id': 5434,\n",
              "   'product_id': 'mod09q1-ndvi',\n",
              "   'date': '2000-06-09',\n",
              "   'prelim': False,\n",
              "   'meta': None},\n",
              "  {'id': 6525,\n",
              "   'product_id': 'mod13q1-ndvi',\n",
              "   'date': '2000-06-09',\n",
              "   'prelim': False,\n",
              "   'meta': None},\n",
              "  {'id': 4293,\n",
              "   'product_id': 'mod09a1-ndwi',\n",
              "   'date': '2000-06-17',\n",
              "   'prelim': False,\n",
              "   'meta': None},\n",
              "  {'id': 5435,\n",
              "   'product_id': 'mod09q1-ndvi',\n",
              "   'date': '2000-06-17',\n",
              "   'prelim': False,\n",
              "   'meta': None},\n",
              "  {'id': 4294,\n",
              "   'product_id': 'mod09a1-ndwi',\n",
              "   'date': '2000-06-25',\n",
              "   'prelim': False,\n",
              "   'meta': None},\n",
              "  {'id': 5436,\n",
              "   'product_id': 'mod09q1-ndvi',\n",
              "   'date': '2000-06-25',\n",
              "   'prelim': False,\n",
              "   'meta': None},\n",
              "  {'id': 6526,\n",
              "   'product_id': 'mod13q1-ndvi',\n",
              "   'date': '2000-06-25',\n",
              "   'prelim': False,\n",
              "   'meta': None},\n",
              "  {'id': 4295,\n",
              "   'product_id': 'mod09a1-ndwi',\n",
              "   'date': '2000-07-03',\n",
              "   'prelim': False,\n",
              "   'meta': None},\n",
              "  {'id': 5437,\n",
              "   'product_id': 'mod09q1-ndvi',\n",
              "   'date': '2000-07-03',\n",
              "   'prelim': False,\n",
              "   'meta': None},\n",
              "  {'id': 4296,\n",
              "   'product_id': 'mod09a1-ndwi',\n",
              "   'date': '2000-07-11',\n",
              "   'prelim': False,\n",
              "   'meta': None},\n",
              "  {'id': 5438,\n",
              "   'product_id': 'mod09q1-ndvi',\n",
              "   'date': '2000-07-11',\n",
              "   'prelim': False,\n",
              "   'meta': None},\n",
              "  {'id': 6527,\n",
              "   'product_id': 'mod13q1-ndvi',\n",
              "   'date': '2000-07-11',\n",
              "   'prelim': False,\n",
              "   'meta': None},\n",
              "  {'id': 4297,\n",
              "   'product_id': 'mod09a1-ndwi',\n",
              "   'date': '2000-07-19',\n",
              "   'prelim': False,\n",
              "   'meta': None},\n",
              "  {'id': 5439,\n",
              "   'product_id': 'mod09q1-ndvi',\n",
              "   'date': '2000-07-19',\n",
              "   'prelim': False,\n",
              "   'meta': None},\n",
              "  {'id': 4298,\n",
              "   'product_id': 'mod09a1-ndwi',\n",
              "   'date': '2000-07-27',\n",
              "   'prelim': False,\n",
              "   'meta': None},\n",
              "  {'id': 5440,\n",
              "   'product_id': 'mod09q1-ndvi',\n",
              "   'date': '2000-07-27',\n",
              "   'prelim': False,\n",
              "   'meta': None},\n",
              "  {'id': 6528,\n",
              "   'product_id': 'mod13q1-ndvi',\n",
              "   'date': '2000-07-27',\n",
              "   'prelim': False,\n",
              "   'meta': None},\n",
              "  {'id': 4299,\n",
              "   'product_id': 'mod09a1-ndwi',\n",
              "   'date': '2000-08-04',\n",
              "   'prelim': False,\n",
              "   'meta': None},\n",
              "  {'id': 5441,\n",
              "   'product_id': 'mod09q1-ndvi',\n",
              "   'date': '2000-08-04',\n",
              "   'prelim': False,\n",
              "   'meta': None},\n",
              "  {'id': 4300,\n",
              "   'product_id': 'mod09a1-ndwi',\n",
              "   'date': '2000-08-12',\n",
              "   'prelim': False,\n",
              "   'meta': None},\n",
              "  {'id': 5442,\n",
              "   'product_id': 'mod09q1-ndvi',\n",
              "   'date': '2000-08-12',\n",
              "   'prelim': False,\n",
              "   'meta': None},\n",
              "  {'id': 6529,\n",
              "   'product_id': 'mod13q1-ndvi',\n",
              "   'date': '2000-08-12',\n",
              "   'prelim': False,\n",
              "   'meta': None},\n",
              "  {'id': 4301,\n",
              "   'product_id': 'mod09a1-ndwi',\n",
              "   'date': '2000-08-20',\n",
              "   'prelim': False,\n",
              "   'meta': None},\n",
              "  {'id': 5443,\n",
              "   'product_id': 'mod09q1-ndvi',\n",
              "   'date': '2000-08-20',\n",
              "   'prelim': False,\n",
              "   'meta': None},\n",
              "  {'id': 4302,\n",
              "   'product_id': 'mod09a1-ndwi',\n",
              "   'date': '2000-08-28',\n",
              "   'prelim': False,\n",
              "   'meta': None},\n",
              "  {'id': 5444,\n",
              "   'product_id': 'mod09q1-ndvi',\n",
              "   'date': '2000-08-28',\n",
              "   'prelim': False,\n",
              "   'meta': None},\n",
              "  {'id': 6530,\n",
              "   'product_id': 'mod13q1-ndvi',\n",
              "   'date': '2000-08-28',\n",
              "   'prelim': False,\n",
              "   'meta': None},\n",
              "  {'id': 4303,\n",
              "   'product_id': 'mod09a1-ndwi',\n",
              "   'date': '2000-09-05',\n",
              "   'prelim': False,\n",
              "   'meta': None},\n",
              "  {'id': 5445,\n",
              "   'product_id': 'mod09q1-ndvi',\n",
              "   'date': '2000-09-05',\n",
              "   'prelim': False,\n",
              "   'meta': None},\n",
              "  {'id': 4304,\n",
              "   'product_id': 'mod09a1-ndwi',\n",
              "   'date': '2000-09-13',\n",
              "   'prelim': False,\n",
              "   'meta': None},\n",
              "  {'id': 5446,\n",
              "   'product_id': 'mod09q1-ndvi',\n",
              "   'date': '2000-09-13',\n",
              "   'prelim': False,\n",
              "   'meta': None},\n",
              "  {'id': 6531,\n",
              "   'product_id': 'mod13q1-ndvi',\n",
              "   'date': '2000-09-13',\n",
              "   'prelim': False,\n",
              "   'meta': None},\n",
              "  {'id': 4305,\n",
              "   'product_id': 'mod09a1-ndwi',\n",
              "   'date': '2000-09-21',\n",
              "   'prelim': False,\n",
              "   'meta': None},\n",
              "  {'id': 5447,\n",
              "   'product_id': 'mod09q1-ndvi',\n",
              "   'date': '2000-09-21',\n",
              "   'prelim': False,\n",
              "   'meta': None},\n",
              "  {'id': 4306,\n",
              "   'product_id': 'mod09a1-ndwi',\n",
              "   'date': '2000-09-29',\n",
              "   'prelim': False,\n",
              "   'meta': None},\n",
              "  {'id': 5448,\n",
              "   'product_id': 'mod09q1-ndvi',\n",
              "   'date': '2000-09-29',\n",
              "   'prelim': False,\n",
              "   'meta': None},\n",
              "  {'id': 6532,\n",
              "   'product_id': 'mod13q1-ndvi',\n",
              "   'date': '2000-09-29',\n",
              "   'prelim': False,\n",
              "   'meta': None},\n",
              "  {'id': 4307,\n",
              "   'product_id': 'mod09a1-ndwi',\n",
              "   'date': '2000-10-07',\n",
              "   'prelim': False,\n",
              "   'meta': None},\n",
              "  {'id': 5449,\n",
              "   'product_id': 'mod09q1-ndvi',\n",
              "   'date': '2000-10-07',\n",
              "   'prelim': False,\n",
              "   'meta': None},\n",
              "  {'id': 4308,\n",
              "   'product_id': 'mod09a1-ndwi',\n",
              "   'date': '2000-10-15',\n",
              "   'prelim': False,\n",
              "   'meta': None},\n",
              "  {'id': 5450,\n",
              "   'product_id': 'mod09q1-ndvi',\n",
              "   'date': '2000-10-15',\n",
              "   'prelim': False,\n",
              "   'meta': None},\n",
              "  {'id': 6533,\n",
              "   'product_id': 'mod13q1-ndvi',\n",
              "   'date': '2000-10-15',\n",
              "   'prelim': False,\n",
              "   'meta': None},\n",
              "  {'id': 4309,\n",
              "   'product_id': 'mod09a1-ndwi',\n",
              "   'date': '2000-10-23',\n",
              "   'prelim': False,\n",
              "   'meta': None},\n",
              "  {'id': 5451,\n",
              "   'product_id': 'mod09q1-ndvi',\n",
              "   'date': '2000-10-23',\n",
              "   'prelim': False,\n",
              "   'meta': None},\n",
              "  {'id': 4310,\n",
              "   'product_id': 'mod09a1-ndwi',\n",
              "   'date': '2000-10-31',\n",
              "   'prelim': False,\n",
              "   'meta': None},\n",
              "  {'id': 5452,\n",
              "   'product_id': 'mod09q1-ndvi',\n",
              "   'date': '2000-10-31',\n",
              "   'prelim': False,\n",
              "   'meta': None},\n",
              "  {'id': 6534,\n",
              "   'product_id': 'mod13q1-ndvi',\n",
              "   'date': '2000-10-31',\n",
              "   'prelim': False,\n",
              "   'meta': None},\n",
              "  {'id': 4311,\n",
              "   'product_id': 'mod09a1-ndwi',\n",
              "   'date': '2000-11-08',\n",
              "   'prelim': False,\n",
              "   'meta': None},\n",
              "  {'id': 5453,\n",
              "   'product_id': 'mod09q1-ndvi',\n",
              "   'date': '2000-11-08',\n",
              "   'prelim': False,\n",
              "   'meta': None},\n",
              "  {'id': 4312,\n",
              "   'product_id': 'mod09a1-ndwi',\n",
              "   'date': '2000-11-16',\n",
              "   'prelim': False,\n",
              "   'meta': None},\n",
              "  {'id': 5454,\n",
              "   'product_id': 'mod09q1-ndvi',\n",
              "   'date': '2000-11-16',\n",
              "   'prelim': False,\n",
              "   'meta': None},\n",
              "  {'id': 6535,\n",
              "   'product_id': 'mod13q1-ndvi',\n",
              "   'date': '2000-11-16',\n",
              "   'prelim': False,\n",
              "   'meta': None},\n",
              "  {'id': 4313,\n",
              "   'product_id': 'mod09a1-ndwi',\n",
              "   'date': '2000-11-24',\n",
              "   'prelim': False,\n",
              "   'meta': None},\n",
              "  {'id': 5455,\n",
              "   'product_id': 'mod09q1-ndvi',\n",
              "   'date': '2000-11-24',\n",
              "   'prelim': False,\n",
              "   'meta': None},\n",
              "  {'id': 4314,\n",
              "   'product_id': 'mod09a1-ndwi',\n",
              "   'date': '2000-12-02',\n",
              "   'prelim': False,\n",
              "   'meta': None},\n",
              "  {'id': 5456,\n",
              "   'product_id': 'mod09q1-ndvi',\n",
              "   'date': '2000-12-02',\n",
              "   'prelim': False,\n",
              "   'meta': None},\n",
              "  {'id': 6536,\n",
              "   'product_id': 'mod13q1-ndvi',\n",
              "   'date': '2000-12-02',\n",
              "   'prelim': False,\n",
              "   'meta': None},\n",
              "  {'id': 4315,\n",
              "   'product_id': 'mod09a1-ndwi',\n",
              "   'date': '2000-12-10',\n",
              "   'prelim': False,\n",
              "   'meta': None},\n",
              "  {'id': 5457,\n",
              "   'product_id': 'mod09q1-ndvi',\n",
              "   'date': '2000-12-10',\n",
              "   'prelim': False,\n",
              "   'meta': None},\n",
              "  {'id': 4316,\n",
              "   'product_id': 'mod09a1-ndwi',\n",
              "   'date': '2000-12-18',\n",
              "   'prelim': False,\n",
              "   'meta': None},\n",
              "  {'id': 5458,\n",
              "   'product_id': 'mod09q1-ndvi',\n",
              "   'date': '2000-12-18',\n",
              "   'prelim': False,\n",
              "   'meta': None},\n",
              "  {'id': 6537,\n",
              "   'product_id': 'mod13q1-ndvi',\n",
              "   'date': '2000-12-18',\n",
              "   'prelim': False,\n",
              "   'meta': None},\n",
              "  {'id': 4317,\n",
              "   'product_id': 'mod09a1-ndwi',\n",
              "   'date': '2000-12-26',\n",
              "   'prelim': False,\n",
              "   'meta': None},\n",
              "  {'id': 5459,\n",
              "   'product_id': 'mod09q1-ndvi',\n",
              "   'date': '2000-12-26',\n",
              "   'prelim': False,\n",
              "   'meta': None}]}"
            ]
          },
          "metadata": {},
          "execution_count": 3
        }
      ],
      "source": [
        "# Import the required python module(s):\n",
        "import json # https://docs.python.org/3/library/json.html\n",
        "import requests # https://docs.python-requests.org/en/latest/\n",
        "\n",
        "# The URL format is:\n",
        "## Base URL: https://98e2zjiicz.us-west-2.awsapprunner.com\n",
        "## Followed by: /datasets/\n",
        "\n",
        "# Obtain the list of available GLAM datasets:\n",
        "datasets_response = requests.get(\"https://98e2zjiicz.us-west-2.awsapprunner.com/datasets/\")\n",
        "\n",
        "# Load the list of available GLAM datasets:\n",
        "datasets_response.json()"
      ]
    },
    {
      "cell_type": "markdown",
      "metadata": {
        "id": "2c_nnepkz1M0"
      },
      "source": [
        "### Example 2: Return available GLAM datasets for a speficied date range:\n",
        "Generally, we are not looking for all available datasets in the system, so we can filter them using a date range."
      ]
    },
    {
      "cell_type": "code",
      "execution_count": null,
      "metadata": {
        "id": "vui1RnC7pjZt"
      },
      "outputs": [],
      "source": [
        "# Import the required python module(s):\n",
        "import json # https://docs.python.org/3/library/json.html\n",
        "import requests # https://docs.python-requests.org/en/latest/\n",
        "\n",
        "# Datasets takes the following inputs for a date range:\n",
        "## Date after (in this example, 2018-01-01)\n",
        "## Date before (in this example, 2021-01-01)\n",
        "\n",
        "## Note: Date format is always: YYY-MM-DD\n",
        "\n",
        "# The URL format is:\n",
        "## Base URL: https://98e2zjiicz.us-west-2.awsapprunner.com\n",
        "## Followed by: /datasets/?date_after=YYYY-MM-DD&date_before=YYYY-MM-DD\n",
        "\n",
        "# Obtain the list of available GLAM datasets:\n",
        "datasets_daterange_response = requests.get(\"https://98e2zjiicz.us-west-2.awsapprunner.com/datasets/?date_after=2018-01-01&date_before=2021-01-01\")\n",
        "\n",
        "# Load the list of available GLAM datasets:\n",
        "datasets_daterange_response.json()"
      ]
    },
    {
      "cell_type": "markdown",
      "metadata": {
        "id": "be32QJScz8ZU"
      },
      "source": [
        "### Example 3: Return all available GLAM datasets for a specified product id:\n",
        "An even better way to filter datasets to to specify a product id to return only datasets for that product."
      ]
    },
    {
      "cell_type": "code",
      "execution_count": null,
      "metadata": {
        "id": "8EaVrJFgqfCs"
      },
      "outputs": [],
      "source": [
        "# Import the required python module(s):\n",
        "import json # https://docs.python.org/3/library/json.html\n",
        "import requests # https://docs.python-requests.org/en/latest/\n",
        "\n",
        "# Datasets takes the following inputs for a product:\n",
        "## Product id (in this example, \"chirps\")\n",
        "\n",
        "# The URL format is:\n",
        "## Base URL: https://98e2zjiicz.us-west-2.awsapprunner.com\n",
        "## Followed by: /datasets/?product_id=TEXT\n",
        "\n",
        "# Obtain the list of available GLAM datasets:\n",
        "datasets_productid_response = requests.get(\"https://98e2zjiicz.us-west-2.awsapprunner.com/datasets/?product_id=chirps-precip\")\n",
        "\n",
        "# Load the list of available GLAM datasets:\n",
        "datasets_productid_response.json()"
      ]
    },
    {
      "cell_type": "markdown",
      "metadata": {
        "id": "Y3-CZsMe0AwJ"
      },
      "source": [
        "### Example 4: Return all available GLAM datsets for a specified date range & product id:\n",
        "By combining the date and product filters we can refine our request even further."
      ]
    },
    {
      "cell_type": "code",
      "execution_count": null,
      "metadata": {
        "id": "Nf-FCnC8rQsT"
      },
      "outputs": [],
      "source": [
        "# Import the required python module(s):\n",
        "import json # https://docs.python.org/3/library/json.html\n",
        "import requests # https://docs.python-requests.org/en/latest/\n",
        "\n",
        "# Datasets takes the following inputs for a date range & product:\n",
        "## Date after (in this example, 2018-01-01)\n",
        "## Date before (in this example, 2021-01-01)\n",
        "## Product id (in this example, \"chirps\")\n",
        "\n",
        "# The URL format is:\n",
        "## Base URL: https://98e2zjiicz.us-west-2.awsapprunner.com\n",
        "## Followed by: /datasets/?product_id=TEXT&date_after=YYYY-MM-DD&date_before=YYYY-MM-DD\n",
        "\n",
        "# Obtain the list of available GLAM datasets:\n",
        "datasets_dateproductid_response = requests.get(\"https://98e2zjiicz.us-west-2.awsapprunner.com/datasets/?product_id=chirps-precip&date_after=2018-01-01&date_before=2021-01-01\")\n",
        "\n",
        "# Load the list of available GLAM datasets:\n",
        "datasets_dateproductid_response.json()"
      ]
    },
    {
      "cell_type": "markdown",
      "metadata": {
        "id": "tnOLCjs8OpuZ"
      },
      "source": [
        "## custom_hist\n",
        "Compute histogram for specified (user-defined) polygon."
      ]
    },
    {
      "cell_type": "code",
      "execution_count": null,
      "metadata": {
        "id": "cn3ZgWhvOrLE"
      },
      "outputs": [],
      "source": [
        "import json # https://docs.python.org/3/library/json.html\n",
        "import requests # https://docs.python-requests.org/en/latest/\n",
        "\n",
        "# custom_hist takes the following variable inputs to create the POST request:\n",
        "# the URL (see below)\n",
        "# headers (see below)\n",
        "# histogram data (see below)\n",
        "\n",
        "# The URL format is:\n",
        "## Base URL: https://api.glam2.app\n",
        "## Followed by: /histogram/\n",
        "\n",
        "# The headers format is:\n",
        "## {\"Content-type\": \"application/json; charset=UTF-8\"}\n",
        "\n",
        "# The Histogram Data body format:\n",
        "# {\n",
        "#  \"product_id\": \"A PRODUCT ID\",\n",
        "#  \"date\": \"YYYY-MM-DD\",\n",
        "#  \"geom\": {A GEOMETRY - SEE BELOW EXAMPLE},\n",
        "#  \"anomaly\": \"AN ANOMALY\",\n",
        "#  \"anomaly_type\": \"AN ANOMALY TYPE\",\n",
        "#  \"cropmask_id\": \"A CROPMASK ID\",\n",
        "#  \"num_bins\": #ofbins,\n",
        "#  \"range\": [\n",
        "#    #ofrange\n",
        "#  ],\n",
        "#  \"weights\": [\n",
        "#    #ofweights\n",
        "#  ],\n",
        "#  \"density\": true/false,\n",
        "#  \"add_years\": [\n",
        "#    #ofyears\n",
        "#  ]\n",
        "#}\n",
        "\n",
        "# Example POST request:\n",
        "url = \"https://98e2zjiicz.us-west-2.awsapprunner.com/histogram/\"\n",
        "headers = {\"Content-type\": \"application/json; charset=UTF-8\"}\n",
        "histogram_data = {\n",
        "  \"product_id\": \"chirps-precip\",\n",
        "  \"date\": \"2020-10-01\",\n",
        "  \"geom\": {\"type\": \"Feature\", \"properties\": {}, \"geometry\": { \"type\": \"Polygon\", \"coordinates\": [ [ [\n",
        "-77.00592041015625,  38.91107167286462 ], [ -76.8655014038086, 38.91107167286462 ], [\n",
        "-76.8655014038086, 39.040786291416964 ], [ -77.00592041015625, 39.040786291416964 ], [\n",
        "-77.00592041015625, 38.91107167286462 ] ] ] } },\n",
        "  \"cropmask_id\": \"no-mask\",\n",
        "  \"num_bins\": 10,\n",
        "  \"range\": [\n",
        "    0,40\n",
        "  ]\n",
        "}\n",
        "\n",
        "# Create and submit the custom_hist POST request:\n",
        "histogram_data = json.dumps(histogram_data)\n",
        "histogram_response = requests.post(url, histogram_data, headers = headers)\n",
        "\n",
        "# Load the requested custom_hist histogram information:\n",
        "histogram_response.json()\n"
      ]
    },
    {
      "cell_type": "markdown",
      "metadata": {
        "id": "-aTnTsbZwnxX"
      },
      "source": [
        "## admin_hist\n",
        "Compute histogram for admin-units admin unit polygon."
      ]
    },
    {
      "cell_type": "code",
      "execution_count": null,
      "metadata": {
        "id": "yveCYQX2w4Ty"
      },
      "outputs": [],
      "source": [
        "import json # https://docs.python.org/3/library/json.html\n",
        "import requests # https://docs.python-requests.org/en/latest/\n",
        "\n",
        "# admin_hist takes the following inputs:\n",
        "## product_id (in this example, \"chirps\")\n",
        "## cropmask_id (in this example, \"none\")\n",
        "## adminlayer_id (in this example, \"gaul0\")\n",
        "## admin_unit (in this example, \"1\" for the Afghanistan)\n",
        "### Note the admin_unit is a code in integer format.\n",
        "## date (in this example, \"2019-01-01\")\n",
        "\n",
        "# admin_hist also accepts the following optional input:\n",
        "## (much like custom_hist)\n",
        "## format, output format options (e.g. JSON, csv, txt)\n",
        "## anomaly, tring representing anomaly baseline length (5year, 10year, full)\n",
        "## anomaly_type, tring representing anomaly type (mean or median)\n",
        "## num_bins, number of bins\n",
        "## range, comma separed range values\n",
        "## weights, comma separed weights values\n",
        "## density, If False, the result will contain the number of samples\n",
        "### in each bin. If True, the result is the value of the probability\n",
        "### density function at the bin, normalized such that the integral over the range is 1.\n",
        "## add_years, a comma separated list of additional years to retreive data\n",
        "\n",
        "# The URL format is:\n",
        "## Base URL: https://98e2zjiicz.us-west-2.awsapprunner.com\n",
        "## Followed by: /histogram/\n",
        "\n",
        "# Obtain the admin_hist:\n",
        "admin_hist_response = requests.get(\"https://98e2zjiicz.us-west-2.awsapprunner.com/histogram/chirps-precip/2019-01-01/no-mask/geoboundaries-usa-adm1/16047515/\")\n",
        "\n",
        "# Load the requested admin_hist histogram information:\n",
        "admin_hist_response.json()"
      ]
    },
    {
      "cell_type": "markdown",
      "metadata": {
        "id": "LeI39masOtLv"
      },
      "source": [
        "## point\n",
        "Return pixel value for specified coordinates and dataset parameters."
      ]
    },
    {
      "cell_type": "code",
      "execution_count": null,
      "metadata": {
        "id": "Mria-p97OvQc"
      },
      "outputs": [],
      "source": [
        "# Import the required python module(s):\n",
        "import json # https://docs.python.org/3/library/json.html\n",
        "import requests # https://docs.python-requests.org/en/latest/\n",
        "\n",
        "# Point requires the following inputs:\n",
        "## product id (in this example, \"chirps\")\n",
        "## date (in this example, 2019-01-01)\n",
        "## longitude in decimal degrees (in this example, -76.937759)\n",
        "## latitude in decimal degrees (in this example, 38.989697)\n",
        "### (lat/lon in the example is the University of Maryland in College Park, MD!)\n",
        "\n",
        "# Point also accepts the following optional inputs:\n",
        "## cropmask_id (not used in this example)\n",
        "## anomaly (not used in this example)\n",
        "## anomaly_type (not used in this example)\n",
        "\n",
        "# The URL format is:\n",
        "## Base URL: https://98e2zjiicz.us-west-2.awsapprunner.com\n",
        "## Followed by: /point/product_id/date/lon/lat\n",
        "\n",
        "# Obtain the point value:\n",
        "point_response = requests.get(\"https://98e2zjiicz.us-west-2.awsapprunner.com/point/chirps-precip/2019-01-01/-76.937759/38.989697/\")\n",
        "\n",
        "# Load the point value:\n",
        "point_response.json()"
      ]
    },
    {
      "cell_type": "markdown",
      "metadata": {
        "id": "sX4LGHkBOvls"
      },
      "source": [
        "## query\n",
        "Return basic raster statistics (mean, min, max, std) for specified polygon."
      ]
    },
    {
      "cell_type": "markdown",
      "metadata": {
        "id": "kB9cDNz_1JIy"
      },
      "source": [
        "#### Custom Polygon"
      ]
    },
    {
      "cell_type": "code",
      "execution_count": null,
      "metadata": {
        "id": "N17BdfOL-rBj"
      },
      "outputs": [],
      "source": [
        "import json # https://docs.python.org/3/library/json.html\n",
        "import requests # https://docs.python-requests.org/en/latest/\n",
        "\n",
        "# Note: Polygon requires the GeoJSON values for a polygon.\n",
        "## There are many ways to obtain this. For this example, we use a simple\n",
        "## online GeoJSON generator which generates GeoJSON coordinates from a\n",
        "## polygon drawn on a map. See: https://geojson.io/\n",
        "\n",
        "# polygon takes the following variable inputs to create the POST request:\n",
        "# headers (see below)\n",
        "# product_id (see below)\n",
        "# date (see below)\n",
        "# geom (see below)\n",
        "\n",
        "# The URL format is:\n",
        "## Base URL: https://98e2zjiicz.us-west-2.awsapprunner.com\n",
        "## Followed by: /query/\n",
        "\n",
        "# The headers format is:\n",
        "## {\"Content-type\": \"application/json; charset=UTF-8\"}\n",
        "\n",
        "# The Polygon Data body format:\n",
        "# {\n",
        "#  \"product_id\": \"A PRODUCT ID\",\n",
        "#  \"date\": \"YYYY-MM-DD\",\n",
        "#  \"geom\": {A GEOMETRY - SEE BELOW EXAMPLE},\n",
        "#  \"anomaly\": \"AN ANOMALY\",\n",
        "#  \"anomaly_type\": \"AN ANOMALY TYPE\",\n",
        "#  \"cropmask_id\": \"A CROPMASK ID\",\n",
        "#  \"format\": \"A STRING\"\n",
        "#}\n",
        "\n",
        "# Example POST request:\n",
        "url = \"https://98e2zjiicz.us-west-2.awsapprunner.com/query/\"\n",
        "headers = {\"Content-type\": \"application/json; charset=UTF-8\"}\n",
        "polygon_data = {\n",
        "  \"product_id\": \"chirps-precip\",\n",
        "  \"date\": \"2019-01-01\",\n",
        "  \"geom\": {\"type\": \"Feature\", \"properties\": {}, \"geometry\": { \"type\": \"Polygon\", \"coordinates\": [ [ [\n",
        "-77.00592041015625,  38.91107167286462 ], [ -76.8655014038086, 38.91107167286462 ], [\n",
        "-76.8655014038086, 39.040786291416964 ], [ -77.00592041015625, 39.040786291416964 ], [\n",
        "-77.00592041015625, 38.91107167286462 ] ] ] } },\n",
        "  \"cropmask_id\": \"no-mask\"\n",
        "}\n",
        "\n",
        "# Create and submit the custom_hist POST request:\n",
        "polygon_data = json.dumps(polygon_data)\n",
        "polygon_response = requests.post(url, polygon_data, headers = headers)\n",
        "\n",
        "# Load the requested custom_hist histogram information:\n",
        "polygon_response.json()\n"
      ]
    },
    {
      "cell_type": "markdown",
      "metadata": {
        "id": "p5mnEMOo1Zcj"
      },
      "source": [
        "#### Boundary Feature\n",
        "\n"
      ]
    },
    {
      "cell_type": "code",
      "execution_count": null,
      "metadata": {
        "id": "Seo-P7bR1irv"
      },
      "outputs": [],
      "source": [
        "import json # https://docs.python.org/3/library/json.html\n",
        "import requests # https://docs.python-requests.org/en/latest/\n",
        "\n",
        "\n",
        "# The URL format is:\n",
        "## Base URL: https://98e2zjiicz.us-west-2.awsapprunner.com\n",
        "## Followed by: /query/product-id/date/cropmask/boundary-layer/boundary-feature-id/\n",
        "\n",
        "\n",
        "url = \"https://98e2zjiicz.us-west-2.awsapprunner.com/query/vnp09h1-ndvi/2025-03-14/no-mask/geoboundaries-usa-adm1/21291522594454/\"\n",
        "response = requests.get(url)\n",
        "\n",
        "# Load the requested custom_hist histogram information:\n",
        "response.json()\n"
      ]
    },
    {
      "cell_type": "markdown",
      "metadata": {
        "id": "QJnIp3M6Oabo"
      },
      "source": [
        "## colormap\n",
        "Returns a list [{value=pixel value, rgba=rgba tuple}] for given stretch parameters.\n",
        "\n",
        "This is used to create custom colormaps for the Tile Map Service."
      ]
    },
    {
      "cell_type": "code",
      "execution_count": null,
      "metadata": {
        "id": "yWIVVybBOeOX"
      },
      "outputs": [],
      "source": [
        "# Import the required python module(s):\n",
        "import json # https://docs.python.org/3/library/json.html\n",
        "import requests # https://docs.python-requests.org/en/latest/\n",
        "\n",
        "# Colormap requires the following inputs:\n",
        "## stretch minimum (in this example, the minimum is set to 0)\n",
        "## stretch maximum (in this example, the maximum is set to 100)\n",
        "## number of values to return (in this example, the value is set to 50)\n",
        "\n",
        "# Colormap also accepts the following optional input:\n",
        "## the colormap to apply (in this example, 'rainbow' is selected)\n",
        "\n",
        "# The URL format is:\n",
        "## Base URL: https://98e2zjiicz.us-west-2.awsapprunner.com\n",
        "## Followed by: /colormap?stretch_min=##&stretch_max=##&colormap=TEXT&num_values=##\n",
        "## Where ## and TEXT = defined inputs\n",
        "\n",
        "# Obtain the colormap values:\n",
        "colormap_response = requests.get(\"https://98e2zjiicz.us-west-2.awsapprunner.com/colormap?stretch_min=0&stretch_max=100&colormap=rainbow&num_values=50\")\n",
        "\n",
        "# Load the colomap values:\n",
        "colormap_response.json()"
      ]
    },
    {
      "cell_type": "markdown",
      "metadata": {
        "id": "7reITYw2Oe0t"
      },
      "source": [
        "## colormaps\n",
        "Return list of available Colormaps. ([reference](https://matplotlib.org/3.1.1/gallery/color/colormap_reference.html))"
      ]
    },
    {
      "cell_type": "code",
      "execution_count": null,
      "metadata": {
        "id": "UOfExsYpOhgz"
      },
      "outputs": [],
      "source": [
        "# Import the required python module(s):\n",
        "import json # https://docs.python.org/3/library/json.html\n",
        "import requests # https://docs.python-requests.org/en/latest/\n",
        "\n",
        "# The URL format is:\n",
        "## Base URL: https://98e2zjiicz.us-west-2.awsapprunner.com\n",
        "## Followed by: /colormaps/\n",
        "\n",
        "# Obtain the list of available colormaps:\n",
        "colormaps_response = requests.get(\"https://98e2zjiicz.us-west-2.awsapprunner.com/colormaps/\")\n",
        "\n",
        "# Load the list of available colormaps:\n",
        "colormaps_response.json()"
      ]
    },
    {
      "cell_type": "markdown",
      "metadata": {
        "id": "PypQE-2yO4d0"
      },
      "source": [
        "## tiles\n",
        "Tiles Preview: Return overview of all image tiles as PNG. (Zoom 0)"
      ]
    },
    {
      "cell_type": "code",
      "execution_count": 1,
      "metadata": {
        "id": "8s8dCReH7PgY",
        "outputId": "81288d4f-0d22-4d76-9427-253a12f2e1bf",
        "colab": {
          "base_uri": "https://localhost:8080/",
          "height": 529
        }
      },
      "outputs": [
        {
          "output_type": "execute_result",
          "data": {
            "text/plain": [
              "<PIL.PngImagePlugin.PngImageFile image mode=RGBA size=512x512>"
            ],
            "image/png": "[encoded data removed]"
          },
          "metadata": {},
          "execution_count": 1
        }
      ],
      "source": [
        "# Import the required python module(s):\n",
        "import json # https://docs.python.org/3/library/json.html\n",
        "import requests # https://docs.python-requests.org/en/latest/\n",
        "from PIL import Image # https://pillow.readthedocs.io/en/stable/reference/Image.html\n",
        "from io import BytesIO # https://docs.python.org/3/library/io.html\n",
        "\n",
        "# Tiles requires the following inputs:\n",
        "## product id (in this example, \"chirps\")\n",
        "## date (in this example, \"2019-01-01\")\n",
        "\n",
        "# Tiles also required the string \"preview.png\" which is the resulting\n",
        "# preview image name.\n",
        "\n",
        "# Tiles also accepts the following optional inputs:\n",
        "## cropmask id\n",
        "## anomaly\n",
        "## anomaly type\n",
        "## colormap\n",
        "## stretch min\n",
        "## stretch max\n",
        "## tile size\n",
        "\n",
        "# The URL format is:\n",
        "## Base URL: https://98e2zjiicz.us-west-2.awsapprunner.com\n",
        "## Followed by: /tiles/chirps/2019-01-01/preview.png\n",
        "\n",
        "# Obtain the tiles:\n",
        "tiles_response = requests.get(\"https://98e2zjiicz.us-west-2.awsapprunner.com/tiles/chirps-precip/2019-01-01/preview.png\")\n",
        "\n",
        "# Load the tile for viewing:\n",
        "Image.open(BytesIO(tiles_response.content))"
      ]
    },
    {
      "cell_type": "markdown",
      "metadata": {
        "id": "g-hDlI_CVAVZ"
      },
      "source": [
        "### Retrieve Tile: Return singleband raster image as PNG for specified zoom and tile coordinates."
      ]
    },
    {
      "cell_type": "code",
      "execution_count": 2,
      "metadata": {
        "id": "EnWEE4gGVABA",
        "outputId": "928e4321-20a9-4f86-d440-b96170ee09d6",
        "colab": {
          "base_uri": "https://localhost:8080/",
          "height": 529
        }
      },
      "outputs": [
        {
          "output_type": "execute_result",
          "data": {
            "text/plain": [
              "<PIL.PngImagePlugin.PngImageFile image mode=RGBA size=512x512>"
            ],
            "image/png": "[encoded data removed]"
          },
          "metadata": {},
          "execution_count": 2
        }
      ],
      "source": [
        "# Import the required python module(s):\n",
        "import json # https://docs.python.org/3/library/json.html\n",
        "import requests # https://docs.python-requests.org/en/latest/\n",
        "from PIL import Image # https://pillow.readthedocs.io/en/stable/reference/Image.html\n",
        "from io import BytesIO # https://docs.python.org/3/library/io.html\n",
        "\n",
        "# Tiles requires the following inputs:\n",
        "## product id (in this example, \"chirps\")\n",
        "## date (in this example, \"2019-01-01\")\n",
        "## z (zoom level; in this example, \"3\")\n",
        "## x (tile x value; in this example, \"1\")\n",
        "## y (tile y value; in this example, \"0\")\n",
        "\n",
        "# Tiles also required the string \".png\".\n",
        "\n",
        "# Tiles also accepts the following optional inputs:\n",
        "## cropmask id\n",
        "## anomaly\n",
        "## anomaly type\n",
        "## colormap\n",
        "## stretch min\n",
        "## stretch max\n",
        "## tile size\n",
        "\n",
        "# The URL format is:\n",
        "## Base URL: https://98e2zjiicz.us-west-2.awsapprunner.com\n",
        "## Followed by: /tiles/chirps/2019-01-01/3/1/0.png\n",
        "\n",
        "# Obtain the tiles:\n",
        "tile_response = requests.get(\"https://98e2zjiicz.us-west-2.awsapprunner.com/tiles/chirps-precip/2019-01-01/1/0/0.png\")\n",
        "\n",
        "# Load the tile for viewing:\n",
        "Image.open(BytesIO(tile_response.content))"
      ]
    },
    {
      "cell_type": "markdown",
      "metadata": {
        "id": "KpFFCjL8Aotn"
      },
      "source": [
        "##**Longer Example 1: Save NDVI values to JSON file.**\n",
        "\n",
        "In this example, NDVI values for Maryland, USA are obtained for a  specified date range and crop mask. Input parameters are defined as variables, then combined to create the URL for the request. Once the response is obtained, it is saved to a JSON file.\n",
        "\n",
        "Remember: Filepaths must be updated for  your machine."
      ]
    },
    {
      "cell_type": "code",
      "execution_count": null,
      "metadata": {
        "colab": {
          "background_save": true
        },
        "id": "Q9Mt8Jt3AoVw"
      },
      "outputs": [],
      "source": [
        "# Import the required python module(s):\n",
        "import os # https://docs.python.org/3/library/os.html\n",
        "import json # https://docs.python.org/3/library/json.html\n",
        "import pandas as pd # https://pandas.pydata.org/docs/user_guide/index.html#user-guide\n",
        "import requests # https://docs.python-requests.org/en/latest/\n",
        "from tqdm import tqdm\n",
        "\n",
        "api_url = \"https://98e2zjiicz.us-west-2.awsapprunner.com\"\n",
        "\n",
        "# Define the request input parameters as variables:\n",
        "product_id = \"vnp09h1-ndvi\" # MODIS/Terra NDVI\n",
        "cropmask_id = \"geoglam-bacs-maize\" # Maize crop mask\n",
        "layer_id = \"geoboundaries-usa-adm1\" # USA sub-national boundaries\n",
        "feature_id = \"21291522594454\" # Maryland, USA\n",
        "date_after = \"2024-01-01\" #Start date, YYYY-MM-DD\n",
        "date_before = \"2024-12-31\" #End date, YYYY-MM-DD\n",
        "\n",
        "# Retrieve available datasets in specified time range\n",
        "\n",
        "dataset_url = f\"{api_url}/datasets/?product_id={product_id}&date_after={date_after}&date_before={date_before}\"\n",
        "dataset_request = requests.get(dataset_url)\n",
        "datasets = dataset_request.json()[\"results\"]\n",
        "\n",
        "results = []\n",
        "\n",
        "# loop over available datasets and query each individually\n",
        "for ds in tqdm(datasets):\n",
        "  query_url = f\"{api_url}/query/{product_id}/{ds['date']}/{cropmask_id}/{layer_id}/{feature_id}\"\n",
        "  req = requests.get(query_url)\n",
        "  response = req.json()\n",
        "  output = {}\n",
        "  output[\"date\"] = ds['date']\n",
        "  output[\"product\"] = ds['product_id']\n",
        "  output[\"value\"] = response['mean']\n",
        "  results.append(output)\n",
        "\n",
        "# Define the output JSON filename:\n",
        "local_file = f\"{product_id}_{layer_id}_maryland_2024.json\"\n",
        "\n",
        "# Save the data as a JSON file:\n",
        "with open(local_file, \"w\")as file:\n",
        "  json.dump(results, file, indent=4)\n",
        "\n",
        "# In Colab, navigate to the Files tab on the left menu (folder icon) to find the saved file.\n",
        "\n",
        "# print(results)"
      ]
    },
    {
      "cell_type": "markdown",
      "metadata": {
        "id": "eNxWFRCZWNzZ"
      },
      "source": [
        "##**Longer Example 2: Save NDVI values to CSV file.**\n",
        "\n",
        "In this example, we take the same NDVI data format it using pandas and save it as a csv file.\n",
        "\n",
        "Remember: Filepaths must be updated for  your machine."
      ]
    },
    {
      "cell_type": "code",
      "execution_count": null,
      "metadata": {
        "id": "Y5SxXcXeEUAN"
      },
      "outputs": [],
      "source": [
        "import json\n",
        "import pandas as pd # https://pandas.pydata.org/docs/user_guide/index.html#user-guide\n",
        "# results[0]\n",
        "# Load json data as pandas DataFrame:\n",
        "df = pd.DataFrame(results) # Open JSON file as pandas dataframe\n",
        "\n",
        "# View DataFrame\n",
        "print(df)\n",
        "\n",
        "# Define the output CSV filename:\n",
        "local_file = f\"{product_id}_{layer_id}_maryland_2024.csv\"\n",
        "\n",
        "# Save data to CSV:\n",
        "df.to_csv(local_file)\n",
        "\n",
        "# In Colab, navigate to the Files tab on the left menu (folder icon) to find the saved file."
      ]
    },
    {
      "cell_type": "code",
      "execution_count": null,
      "metadata": {
        "id": "YWwxiiCuFN6X"
      },
      "outputs": [],
      "source": []
    }
  ],
  "metadata": {
    "colab": {
      "provenance": []
    },
    "kernelspec": {
      "display_name": "Python 3",
      "name": "python3"
    },
    "language_info": {
      "name": "python"
    }
  },
  "nbformat": 4,
  "nbformat_minor": 0
}