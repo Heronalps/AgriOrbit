{
 "cells": [
  {
   "cell_type": "code",
   "execution_count": 2,
   "metadata": {},
   "outputs": [],
   "source": [
    "import json\n",
    "import requests"
   ]
  },
  {
   "cell_type": "code",
   "execution_count": 3,
   "metadata": {},
   "outputs": [],
   "source": [
    "tags_response = requests.get(\"https://s9h5qqvw16.execute-api.us-east-1.amazonaws.com/dev/tags/\")"
   ]
  },
  {
   "cell_type": "code",
   "execution_count": 4,
   "metadata": {},
   "outputs": [
    {
     "data": {
      "text/plain": [
       "{'count': 231,\n",
       " 'next': 'https://s9h5qqvw16.execute-api.us-east-1.amazonaws.com/dev/tags/?page=2',\n",
       " 'previous': None,\n",
       " 'results': [{'name': 'ADM0'},\n",
       "  {'name': 'ADM1'},\n",
       "  {'name': 'ADM2'},\n",
       "  {'name': 'AFG'},\n",
       "  {'name': 'AGO'},\n",
       "  {'name': 'ALB'},\n",
       "  {'name': 'AND'},\n",
       "  {'name': 'ARE'},\n",
       "  {'name': 'ARG'},\n",
       "  {'name': 'ARM'},\n",
       "  {'name': 'ASAP'},\n",
       "  {'name': 'ATA'},\n",
       "  {'name': 'ATG'},\n",
       "  {'name': 'AUS'},\n",
       "  {'name': 'AUT'},\n",
       "  {'name': 'AZE'},\n",
       "  {'name': 'BDI'},\n",
       "  {'name': 'BEL'},\n",
       "  {'name': 'BEN'},\n",
       "  {'name': 'BFA'},\n",
       "  {'name': 'BGD'},\n",
       "  {'name': 'BGR'},\n",
       "  {'name': 'BHR'},\n",
       "  {'name': 'BHS'},\n",
       "  {'name': 'BIH'},\n",
       "  {'name': 'BLR'},\n",
       "  {'name': 'BLZ'},\n",
       "  {'name': 'BOL'},\n",
       "  {'name': 'BRA'},\n",
       "  {'name': 'BRB'},\n",
       "  {'name': 'BRN'},\n",
       "  {'name': 'BTN'},\n",
       "  {'name': 'BWA'},\n",
       "  {'name': 'CAF'},\n",
       "  {'name': 'CAN'},\n",
       "  {'name': 'CHE'},\n",
       "  {'name': 'CHL'},\n",
       "  {'name': 'CHN'},\n",
       "  {'name': 'CIV'},\n",
       "  {'name': 'CMR'},\n",
       "  {'name': 'COD'},\n",
       "  {'name': 'COG'},\n",
       "  {'name': 'COL'},\n",
       "  {'name': 'COM'},\n",
       "  {'name': 'Conab'},\n",
       "  {'name': 'copernicus'},\n",
       "  {'name': 'CPV'},\n",
       "  {'name': 'CRI'},\n",
       "  {'name': 'cropmonitor'},\n",
       "  {'name': 'CUB'},\n",
       "  {'name': 'CYP'},\n",
       "  {'name': 'CZE'},\n",
       "  {'name': 'DEU'},\n",
       "  {'name': 'DJI'},\n",
       "  {'name': 'DMA'},\n",
       "  {'name': 'DNK'},\n",
       "  {'name': 'documentation'},\n",
       "  {'name': 'DOM'},\n",
       "  {'name': 'DZA'},\n",
       "  {'name': 'ecoregions'},\n",
       "  {'name': 'ECU'},\n",
       "  {'name': 'EGY'},\n",
       "  {'name': 'ERI'},\n",
       "  {'name': 'ESDS'},\n",
       "  {'name': 'ESI'},\n",
       "  {'name': 'ESP'},\n",
       "  {'name': 'EST'},\n",
       "  {'name': 'ETH'},\n",
       "  {'name': 'feature'},\n",
       "  {'name': 'FIN'},\n",
       "  {'name': 'FJI'},\n",
       "  {'name': 'FRA'},\n",
       "  {'name': 'FSM'},\n",
       "  {'name': 'FSP'},\n",
       "  {'name': 'GAB'},\n",
       "  {'name': 'GBR'},\n",
       "  {'name': 'GEO'},\n",
       "  {'name': 'geoboundaries'},\n",
       "  {'name': 'GEOGLAM'},\n",
       "  {'name': 'GHA'},\n",
       "  {'name': 'GIN'},\n",
       "  {'name': 'GLAM'},\n",
       "  {'name': 'global'},\n",
       "  {'name': 'GMB'},\n",
       "  {'name': 'GNB'},\n",
       "  {'name': 'GNQ'},\n",
       "  {'name': 'GRC'},\n",
       "  {'name': 'GRD'},\n",
       "  {'name': 'GRL'},\n",
       "  {'name': 'GTM'},\n",
       "  {'name': 'GUY'},\n",
       "  {'name': 'HND'},\n",
       "  {'name': 'HRV'},\n",
       "  {'name': 'HTI'},\n",
       "  {'name': 'HUN'},\n",
       "  {'name': 'HydroSHEDS'},\n",
       "  {'name': 'IDN'},\n",
       "  {'name': 'IFPRI'},\n",
       "  {'name': 'IND'},\n",
       "  {'name': 'INIA'}]}"
      ]
     },
     "execution_count": 4,
     "metadata": {},
     "output_type": "execute_result"
    }
   ],
   "source": [
    "tags_response.json()"
   ]
  },
  {
   "cell_type": "code",
   "execution_count": null,
   "metadata": {},
   "outputs": [],
   "source": []
  }
 ],
 "metadata": {
  "kernelspec": {
   "display_name": "Python 3",
   "language": "python",
   "name": "python3"
  },
  "language_info": {
   "codemirror_mode": {
    "name": "ipython",
    "version": 3
   },
   "file_extension": ".py",
   "mimetype": "text/x-python",
   "name": "python",
   "nbconvert_exporter": "python",
   "pygments_lexer": "ipython3",
   "version": "3.10.8"
  }
 },
 "nbformat": 4,
 "nbformat_minor": 2
}
