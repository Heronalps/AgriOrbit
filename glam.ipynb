{
 "cells": [
  {
   "cell_type": "code",
   "execution_count": 2,
   "metadata": {},
   "outputs": [],
   "source": [
    "import json\n",
    "import requests"
   ]
  },
  {
   "cell_type": "code",
   "execution_count": 3,
   "metadata": {},
   "outputs": [],
   "source": [
    "tags_response = requests.get(\"https://s9h5qqvw16.execute-api.us-east-1.amazonaws.com/dev/tags/\")"
   ]
  },
  {
   "cell_type": "code",
   "execution_count": 4,
   "metadata": {},
   "outputs": [
    {
     "data": {
      "text/plain": [
       "{'count': 231,\n",
       " 'next': 'https://s9h5qqvw16.execute-api.us-east-1.amazonaws.com/dev/tags/?page=2',\n",
       " 'previous': None,\n",
       " 'results': [{'name': 'ADM0'},\n",
       "  {'name': 'ADM1'},\n",
       "  {'name': 'ADM2'},\n",
       "  {'name': 'AFG'},\n",
       "  {'name': 'AGO'},\n",
       "  {'name': 'ALB'},\n",
       "  {'name': 'AND'},\n",
       "  {'name': 'ARE'},\n",
       "  {'name': 'ARG'},\n",
       "  {'name': 'ARM'},\n",
       "  {'name': 'ASAP'},\n",
       "  {'name': 'ATA'},\n",
       "  {'name': 'ATG'},\n",
       "  {'name': 'AUS'},\n",
       "  {'name': 'AUT'},\n",
       "  {'name': 'AZE'},\n",
       "  {'name': 'BDI'},\n",
       "  {'name': 'BEL'},\n",
       "  {'name': 'BEN'},\n",
       "  {'name': 'BFA'},\n",
       "  {'name': 'BGD'},\n",
       "  {'name': 'BGR'},\n",
       "  {'name': 'BHR'},\n",
       "  {'name': 'BHS'},\n",
       "  {'name': 'BIH'},\n",
       "  {'name': 'BLR'},\n",
       "  {'name': 'BLZ'},\n",
       "  {'name': 'BOL'},\n",
       "  {'name': 'BRA'},\n",
       "  {'name': 'BRB'},\n",
       "  {'name': 'BRN'},\n",
       "  {'name': 'BTN'},\n",
       "  {'name': 'BWA'},\n",
       "  {'name': 'CAF'},\n",
       "  {'name': 'CAN'},\n",
       "  {'name': 'CHE'},\n",
       "  {'name': 'CHL'},\n",
       "  {'name': 'CHN'},\n",
       "  {'name': 'CIV'},\n",
       "  {'name': 'CMR'},\n",
       "  {'name': 'COD'},\n",
       "  {'name': 'COG'},\n",
       "  {'name': 'COL'},\n",
       "  {'name': 'COM'},\n",
       "  {'name': 'Conab'},\n",
       "  {'name': 'copernicus'},\n",
       "  {'name': 'CPV'},\n",
       "  {'name': 'CRI'},\n",
       "  {'name': 'cropmonitor'},\n",
       "  {'name': 'CUB'},\n",
       "  {'name': 'CYP'},\n",
       "  {'name': 'CZE'},\n",
       "  {'name': 'DEU'},\n",
       "  {'name': 'DJI'},\n",
       "  {'name': 'DMA'},\n",
       "  {'name': 'DNK'},\n",
       "  {'name': 'documentation'},\n",
       "  {'name': 'DOM'},\n",
       "  {'name': 'DZA'},\n",
       "  {'name': 'ecoregions'},\n",
       "  {'name': 'ECU'},\n",
       "  {'name': 'EGY'},\n",
       "  {'name': 'ERI'},\n",
       "  {'name': 'ESDS'},\n",
       "  {'name': 'ESI'},\n",
       "  {'name': 'ESP'},\n",
       "  {'name': 'EST'},\n",
       "  {'name': 'ETH'},\n",
       "  {'name': 'feature'},\n",
       "  {'name': 'FIN'},\n",
       "  {'name': 'FJI'},\n",
       "  {'name': 'FRA'},\n",
       "  {'name': 'FSM'},\n",
       "  {'name': 'FSP'},\n",
       "  {'name': 'GAB'},\n",
       "  {'name': 'GBR'},\n",
       "  {'name': 'GEO'},\n",
       "  {'name': 'geoboundaries'},\n",
       "  {'name': 'GEOGLAM'},\n",
       "  {'name': 'GHA'},\n",
       "  {'name': 'GIN'},\n",
       "  {'name': 'GLAM'},\n",
       "  {'name': 'global'},\n",
       "  {'name': 'GMB'},\n",
       "  {'name': 'GNB'},\n",
       "  {'name': 'GNQ'},\n",
       "  {'name': 'GRC'},\n",
       "  {'name': 'GRD'},\n",
       "  {'name': 'GRL'},\n",
       "  {'name': 'GTM'},\n",
       "  {'name': 'GUY'},\n",
       "  {'name': 'HND'},\n",
       "  {'name': 'HRV'},\n",
       "  {'name': 'HTI'},\n",
       "  {'name': 'HUN'},\n",
       "  {'name': 'HydroSHEDS'},\n",
       "  {'name': 'IDN'},\n",
       "  {'name': 'IFPRI'},\n",
       "  {'name': 'IND'},\n",
       "  {'name': 'INIA'}]}"
      ]
     },
     "execution_count": 4,
     "metadata": {},
     "output_type": "execute_result"
    }
   ],
   "source": [
    "tags_response.json()"
   ]
  },
  {
   "cell_type": "code",
   "execution_count": 1,
   "metadata": {},
   "outputs": [
    {
     "data": {
      "text/plain": [
       "{'value': 26.192089080810547}"
      ]
     },
     "execution_count": 1,
     "metadata": {},
     "output_type": "execute_result"
    }
   ],
   "source": [
    "# Import the required python module(s):\n",
    "import json # https://docs.python.org/3/library/json.html\n",
    "import requests # https://docs.python-requests.org/en/latest/\n",
    "\n",
    "# Point requires the following inputs:\n",
    "## product id (in this example, \"chirps\")\n",
    "## date (in this example, 2019-01-01)\n",
    "## longitude in decimal degrees (in this example, -76.937759)\n",
    "## latitude in decimal degrees (in this example, 38.989697)\n",
    "### (lat/lon in the example is the University of Maryland in College Park, MD!)\n",
    "\n",
    "# Point also accepts the following optional inputs:\n",
    "## cropmask_id (not used in this example)\n",
    "## anomaly (not used in this example)\n",
    "## anomaly_type (not used in this example)\n",
    "\n",
    "# The URL format is:\n",
    "## Base URL: https://api.glam2.app\n",
    "## Followed by: /point/product_id/date/lon/lat\n",
    "\n",
    "# Obtain the point value:\n",
    "point_response = requests.get(\"https://s9h5qqvw16.execute-api.us-east-1.amazonaws.com/dev/point/chirps-precip/2019-01-01/-76.937759/38.989697/\")\n",
    "\n",
    "# Load the point value:\n",
    "point_response.json()"
   ]
  },
  {
   "cell_type": "code",
   "execution_count": 5,
   "metadata": {},
   "outputs": [
    {
     "ename": "ModuleNotFoundError",
     "evalue": "No module named 'pillow'",
     "output_type": "error",
     "traceback": [
      "\u001b[1;31m---------------------------------------------------------------------------\u001b[0m",
      "\u001b[1;31mModuleNotFoundError\u001b[0m                       Traceback (most recent call last)",
      "Cell \u001b[1;32mIn[5], line 4\u001b[0m\n\u001b[0;32m      2\u001b[0m \u001b[38;5;28;01mimport\u001b[39;00m \u001b[38;5;21;01mjson\u001b[39;00m \u001b[38;5;66;03m# https://docs.python.org/3/library/json.html\u001b[39;00m\n\u001b[0;32m      3\u001b[0m \u001b[38;5;28;01mimport\u001b[39;00m \u001b[38;5;21;01mrequests\u001b[39;00m \u001b[38;5;66;03m# https://docs.python-requests.org/en/latest/\u001b[39;00m\n\u001b[1;32m----> 4\u001b[0m \u001b[38;5;28;01mfrom\u001b[39;00m \u001b[38;5;21;01mpillow\u001b[39;00m \u001b[38;5;28;01mimport\u001b[39;00m Image \u001b[38;5;66;03m# https://pillow.readthedocs.io/en/stable/reference/Image.html\u001b[39;00m\n\u001b[0;32m      5\u001b[0m \u001b[38;5;28;01mfrom\u001b[39;00m \u001b[38;5;21;01mio\u001b[39;00m \u001b[38;5;28;01mimport\u001b[39;00m BytesIO \u001b[38;5;66;03m# https://docs.python.org/3/library/io.html\u001b[39;00m\n\u001b[0;32m      7\u001b[0m \u001b[38;5;66;03m# Tiles requires the following inputs:\u001b[39;00m\n\u001b[0;32m      8\u001b[0m \u001b[38;5;66;03m## product id (in this example, \"chirps\")\u001b[39;00m\n\u001b[0;32m      9\u001b[0m \u001b[38;5;66;03m## date (in this example, \"2019-01-01\")\u001b[39;00m\n\u001b[1;32m   (...)\u001b[0m\n\u001b[0;32m     28\u001b[0m \n\u001b[0;32m     29\u001b[0m \u001b[38;5;66;03m# Obtain the tiles:\u001b[39;00m\n",
      "\u001b[1;31mModuleNotFoundError\u001b[0m: No module named 'pillow'"
     ]
    }
   ],
   "source": [
    "# Import the required python module(s):\n",
    "import json # https://docs.python.org/3/library/json.html\n",
    "import requests # https://docs.python-requests.org/en/latest/\n",
    "from pillow import Image # https://pillow.readthedocs.io/en/stable/reference/Image.html\n",
    "from io import BytesIO # https://docs.python.org/3/library/io.html\n",
    "\n",
    "# Tiles requires the following inputs:\n",
    "## product id (in this example, \"chirps\")\n",
    "## date (in this example, \"2019-01-01\")\n",
    "## z (zoom level; in this example, \"3\")\n",
    "## x (tile x value; in this example, \"1\")\n",
    "## y (tile y value; in this example, \"0\")\n",
    "\n",
    "# Tiles also required the string \".png\".\n",
    "\n",
    "# Tiles also accepts the following optional inputs:\n",
    "## cropmask id\n",
    "## anomaly\n",
    "## anomaly type\n",
    "## colormap\n",
    "## stretch min\n",
    "## stretch max\n",
    "## tile size\n",
    "\n",
    "# The URL format is:\n",
    "## Base URL: https://s9h5qqvw16.execute-api.us-east-1.amazonaws.com/dev\n",
    "## Followed by: /tiles/chirps/2019-01-01/3/1/0.png\n",
    "\n",
    "# Obtain the tiles:\n",
    "tile_response = requests.get(\"https://s9h5qqvw16.execute-api.us-east-1.amazonaws.com/dev/tiles/chirps-precip/2019-01-01/1/0/0.png\")\n",
    "\n",
    "# Load the tile for viewing:\n",
    "Image.open(BytesIO(tile_response.content))"
   ]
  }
 ],
 "metadata": {
  "kernelspec": {
   "display_name": "Python 3",
   "language": "python",
   "name": "python3"
  },
  "language_info": {
   "codemirror_mode": {
    "name": "ipython",
    "version": 3
   },
   "file_extension": ".py",
   "mimetype": "text/x-python",
   "name": "python",
   "nbconvert_exporter": "python",
   "pygments_lexer": "ipython3",
   "version": "3.10.8"
  }
 },
 "nbformat": 4,
 "nbformat_minor": 2
}
